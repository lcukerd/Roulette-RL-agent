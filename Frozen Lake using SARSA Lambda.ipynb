{
 "cells": [
  {
   "cell_type": "code",
   "execution_count": 7,
   "metadata": {},
   "outputs": [],
   "source": [
    "#Fuckin not working\n",
    "import numpy as np\n",
    "import pandas as pd\n",
    "import time\n",
    "import gym\n",
    "import random\n",
    "from IPython.display import clear_output"
   ]
  },
  {
   "cell_type": "code",
   "execution_count": 46,
   "metadata": {},
   "outputs": [],
   "source": [
    "class SarsaLambda:\n",
    "    def __init__(self, q_table, state_size, action_size, epsilon, epsilon_min, epsilon_decay):\n",
    "        self.q_table = q_table\n",
    "        self.state_size = state_size\n",
    "        self.action_size = action_size\n",
    "        self.ALPHA = 0.1\n",
    "        self.Gamma = 0.9\n",
    "        self.Lambda = 0.9\n",
    "        self.Epsilon = epsilon\n",
    "        self.Epsilon_decay = epsilon_decay\n",
    "        self.Epsilon_min = epsilon_min\n",
    "        self.e_table = np.zeros((state_size,action_size))\n",
    "\n",
    "    def reinit_e_table(self):\n",
    "        self.e_table = np.zeros((state_size,action_size))\n",
    "\n",
    "    def chooseAction(self,S):\n",
    "        q = q_table[S,:]\n",
    "        if (np.random.uniform() <= self.Epsilon):\n",
    "            action = random.randrange(self.action_size)\n",
    "        else:\n",
    "            action = q.argmax()\n",
    "        if self.Epsilon > self.Epsilon_min:\n",
    "            self.Epsilon *= self.Epsilon_decay\n",
    "        return action \n",
    "    \n",
    "    def get_Q_table(self):\n",
    "        return self.q_table\n",
    "    \n",
    "    def get_Epsilon(self):\n",
    "        return self.Epsilon\n",
    "    \n",
    "#     LEFT = 0\n",
    "#     DOWN = 1\n",
    "#     RIGHT = 2\n",
    "#     UP = 3\n",
    "\n",
    "    def learn(self,S,A,S_,A_,R,Terminated):\n",
    "        self.e_table[S,A] = 1\n",
    "        self.e_table[S,:] = 0\n",
    "        self.e_table = self.e_table * self.Gamma * self.Lambda\n",
    "        predict_q = self.q_table[S,A]\n",
    "        if (Terminated != True):\n",
    "            target_q = R + self.Gamma*self.q_table[S_,A_]\n",
    "        else:\n",
    "            target_q = R\n",
    "        self.q_table = self.q_table + self.ALPHA * (target_q - predict_q) * self.e_table[S,A]        "
   ]
  },
  {
   "cell_type": "code",
   "execution_count": 47,
   "metadata": {},
   "outputs": [],
   "source": [
    "def create_q_table(states):\n",
    "    q_table = np.zeros((states,action_size))\n",
    "    return q_table"
   ]
  },
  {
   "cell_type": "code",
   "execution_count": 48,
   "metadata": {},
   "outputs": [],
   "source": [
    "def simulate(q_table,epsilon,epsilon_min,epsilon_decay,state_size,action_size):\n",
    "    env = gym.make('FrozenLake8x8-v0')\n",
    "    SL = SarsaLambda(q_table,state_size,action_size,epsilon,epsilon_min,epsilon_decay)\n",
    "    for gen in range(Episodes):\n",
    "        steps = S = R = A = 0\n",
    "        env.reset()\n",
    "        SL.reinit_e_table()\n",
    "        Terminated = False\n",
    "        while not Terminated:\n",
    "            if (show is True):\n",
    "                env.render()\n",
    "                time.sleep(Frame_Time)\n",
    "                clear_output()\n",
    "            S_,R,Terminated,_ = env.step(A)\n",
    "            A_ = SL.chooseAction(S_)\n",
    "#             if S_-S == 8:\n",
    "#                 A = 1\n",
    "#             elif S_-S == 1:\n",
    "#                 A = 2\n",
    "#             elif S_-S == -1:\n",
    "#                 A = 0\n",
    "#             else:\n",
    "#                 A = 3\n",
    "            if Terminated is True and R == 0:\n",
    "                R = -1\n",
    "            SL.learn(S,A,S_,A_,R,Terminated)\n",
    "            S = S_\n",
    "            A = A_\n",
    "            steps += 1\n",
    "        if R == 1:\n",
    "            print(\"Episode: {}/{}, e: {:.2}, Steps: {}, Reward: {}\"\n",
    "              .format(gen, Episodes, SL.get_Epsilon(), steps,R))\n",
    "    env.close()\n",
    "    return SL.get_Q_table()"
   ]
  },
  {
   "cell_type": "code",
   "execution_count": 50,
   "metadata": {
    "scrolled": false
   },
   "outputs": [
    {
     "name": "stdout",
     "output_type": "stream",
     "text": [
      "  (Down)\n",
      "\u001b[41mS\u001b[0mFFFFFFF\n",
      "FFFFFFFF\n",
      "FFFHFFFF\n",
      "FFFFFHFF\n",
      "FFFHFFFF\n",
      "FHHFFFHF\n",
      "FHFFHFHF\n",
      "FFFHFFFG\n"
     ]
    },
    {
     "ename": "KeyboardInterrupt",
     "evalue": "",
     "output_type": "error",
     "traceback": [
      "\u001b[0;31m---------------------------------------------------------------------------\u001b[0m",
      "\u001b[0;31mKeyboardInterrupt\u001b[0m                         Traceback (most recent call last)",
      "\u001b[0;32m<ipython-input-50-8d37e2c8dafc>\u001b[0m in \u001b[0;36m<module>\u001b[0;34m()\u001b[0m\n\u001b[1;32m      6\u001b[0m \u001b[0mshow\u001b[0m \u001b[0;34m=\u001b[0m \u001b[0;32mTrue\u001b[0m\u001b[0;34m\u001b[0m\u001b[0m\n\u001b[1;32m      7\u001b[0m \u001b[0mq_table\u001b[0m \u001b[0;34m=\u001b[0m \u001b[0mcreate_q_table\u001b[0m\u001b[0;34m(\u001b[0m\u001b[0mstate_size\u001b[0m\u001b[0;34m)\u001b[0m\u001b[0;34m\u001b[0m\u001b[0m\n\u001b[0;32m----> 8\u001b[0;31m \u001b[0mq_table\u001b[0m \u001b[0;34m=\u001b[0m \u001b[0msimulate\u001b[0m\u001b[0;34m(\u001b[0m\u001b[0mq_table\u001b[0m\u001b[0;34m,\u001b[0m\u001b[0;36m1.0\u001b[0m\u001b[0;34m,\u001b[0m\u001b[0;36m0.3\u001b[0m\u001b[0;34m,\u001b[0m\u001b[0;36m0.9997\u001b[0m\u001b[0;34m,\u001b[0m\u001b[0mstate_size\u001b[0m\u001b[0;34m,\u001b[0m\u001b[0maction_size\u001b[0m\u001b[0;34m)\u001b[0m\u001b[0;34m\u001b[0m\u001b[0m\n\u001b[0m\u001b[1;32m      9\u001b[0m \u001b[0mprint\u001b[0m \u001b[0;34m(\u001b[0m\u001b[0mq_table\u001b[0m\u001b[0;34m)\u001b[0m\u001b[0;34m\u001b[0m\u001b[0m\n",
      "\u001b[0;32m<ipython-input-48-c4c0a45eb055>\u001b[0m in \u001b[0;36msimulate\u001b[0;34m(q_table, epsilon, epsilon_min, epsilon_decay, state_size, action_size)\u001b[0m\n\u001b[1;32m     10\u001b[0m             \u001b[0;32mif\u001b[0m \u001b[0;34m(\u001b[0m\u001b[0mshow\u001b[0m \u001b[0;32mis\u001b[0m \u001b[0;32mTrue\u001b[0m\u001b[0;34m)\u001b[0m\u001b[0;34m:\u001b[0m\u001b[0;34m\u001b[0m\u001b[0m\n\u001b[1;32m     11\u001b[0m                 \u001b[0menv\u001b[0m\u001b[0;34m.\u001b[0m\u001b[0mrender\u001b[0m\u001b[0;34m(\u001b[0m\u001b[0;34m)\u001b[0m\u001b[0;34m\u001b[0m\u001b[0m\n\u001b[0;32m---> 12\u001b[0;31m                 \u001b[0mtime\u001b[0m\u001b[0;34m.\u001b[0m\u001b[0msleep\u001b[0m\u001b[0;34m(\u001b[0m\u001b[0mFrame_Time\u001b[0m\u001b[0;34m)\u001b[0m\u001b[0;34m\u001b[0m\u001b[0m\n\u001b[0m\u001b[1;32m     13\u001b[0m                 \u001b[0mclear_output\u001b[0m\u001b[0;34m(\u001b[0m\u001b[0;34m)\u001b[0m\u001b[0;34m\u001b[0m\u001b[0m\n\u001b[1;32m     14\u001b[0m             \u001b[0mS_\u001b[0m\u001b[0;34m,\u001b[0m\u001b[0mR\u001b[0m\u001b[0;34m,\u001b[0m\u001b[0mTerminated\u001b[0m\u001b[0;34m,\u001b[0m\u001b[0m_\u001b[0m \u001b[0;34m=\u001b[0m \u001b[0menv\u001b[0m\u001b[0;34m.\u001b[0m\u001b[0mstep\u001b[0m\u001b[0;34m(\u001b[0m\u001b[0mA\u001b[0m\u001b[0;34m)\u001b[0m\u001b[0;34m\u001b[0m\u001b[0m\n",
      "\u001b[0;31mKeyboardInterrupt\u001b[0m: "
     ]
    }
   ],
   "source": [
    "np.random.seed(2)\n",
    "Frame_Time = 2\n",
    "Episodes = 10\n",
    "state_size = 8*8\n",
    "action_size = 4\n",
    "show = True\n",
    "q_table = create_q_table(state_size)\n",
    "q_table = simulate(q_table,1.0,0.3,0.9997,state_size,action_size)\n",
    "print (q_table)"
   ]
  },
  {
   "cell_type": "code",
   "execution_count": 18,
   "metadata": {
    "scrolled": false
   },
   "outputs": [],
   "source": [
    "#Takes random action only during training\n",
    "Frame_Time = 1\n",
    "show = True\n",
    "Episodes = 1\n",
    "q_table = simulate(q_table,0.0)"
   ]
  },
  {
   "cell_type": "code",
   "execution_count": 19,
   "metadata": {},
   "outputs": [
    {
     "name": "stdout",
     "output_type": "stream",
     "text": [
      "[[5. 5.]\n",
      " [5. 5.]]\n"
     ]
    }
   ],
   "source": [
    "print (np.ones((2,2))*5)"
   ]
  }
 ],
 "metadata": {
  "kernelspec": {
   "display_name": "Python 3",
   "language": "python",
   "name": "python3"
  },
  "language_info": {
   "codemirror_mode": {
    "name": "ipython",
    "version": 3
   },
   "file_extension": ".py",
   "mimetype": "text/x-python",
   "name": "python",
   "nbconvert_exporter": "python",
   "pygments_lexer": "ipython3",
   "version": "3.6.5"
  }
 },
 "nbformat": 4,
 "nbformat_minor": 2
}
